{
 "cells": [
  {
   "cell_type": "code",
   "execution_count": 8,
   "metadata": {
    "collapsed": true,
    "ExecuteTime": {
     "end_time": "2023-11-07T23:23:18.984800Z",
     "start_time": "2023-11-07T23:23:18.944801600Z"
    }
   },
   "outputs": [
    {
     "ename": "ModuleNotFoundError",
     "evalue": "No module named 'serial'",
     "output_type": "error",
     "traceback": [
      "\u001B[1;31m---------------------------------------------------------------------------\u001B[0m",
      "\u001B[1;31mModuleNotFoundError\u001B[0m                       Traceback (most recent call last)",
      "Cell \u001B[1;32mIn[8], line 1\u001B[0m\n\u001B[1;32m----> 1\u001B[0m \u001B[38;5;28;01mimport\u001B[39;00m \u001B[38;5;21;01mserial\u001B[39;00m\n\u001B[0;32m      2\u001B[0m \u001B[38;5;28;01mimport\u001B[39;00m \u001B[38;5;21;01mtemporal_light_sensor\u001B[39;00m\n\u001B[0;32m      3\u001B[0m \u001B[38;5;28;01mimport\u001B[39;00m \u001B[38;5;21;01mmatplotlib\u001B[39;00m\u001B[38;5;21;01m.\u001B[39;00m\u001B[38;5;21;01mpyplot\u001B[39;00m \u001B[38;5;28;01mas\u001B[39;00m \u001B[38;5;21;01mplt\u001B[39;00m\n",
      "\u001B[1;31mModuleNotFoundError\u001B[0m: No module named 'serial'"
     ]
    }
   ],
   "source": [
    "import serial\n",
    "import temporal_light_sensor\n",
    "import matplotlib.pyplot as plt\n",
    "import numpy as np\n",
    "\n",
    "sensor = temporal_light_sensor.TemporalLightSensor(serial.Serial(\"COM5\", 500000))"
   ]
  },
  {
   "cell_type": "code",
   "execution_count": 19,
   "outputs": [
    {
     "name": "stdout",
     "output_type": "stream",
     "text": [
      "message length = 1\n",
      "message length = 100012\n"
     ]
    }
   ],
   "source": [
    "num_measurements = 50000\n",
    "sampling_frequency = 5000\n",
    "sensor.take_measurement(num_measurements=num_measurements, sampling_frequency=sampling_frequency)\n",
    "\n",
    "measurements, start_ts = sensor.get_results() #measurements.shape = (num_measurements,)"
   ],
   "metadata": {
    "collapsed": false,
    "ExecuteTime": {
     "end_time": "2023-11-07T23:00:36.854699700Z",
     "start_time": "2023-11-07T23:00:26.732258600Z"
    }
   }
  },
  {
   "cell_type": "code",
   "execution_count": 20,
   "outputs": [],
   "source": [
    "x_time = np.arange(len(measurements)) * 1/sampling_frequency\n",
    "y_luminance = measurements / 65535"
   ],
   "metadata": {
    "collapsed": false,
    "ExecuteTime": {
     "end_time": "2023-11-07T23:00:40.173402300Z",
     "start_time": "2023-11-07T23:00:40.146607900Z"
    }
   }
  },
  {
   "cell_type": "code",
   "execution_count": 21,
   "outputs": [],
   "source": [
    "import datetime\n",
    "import os\n",
    "current_datetime = datetime.datetime.now().strftime(\"%Y-%m-%d\")\n",
    "\n",
    "file_name = 'RefreshRate_[30,120,30]_Time_[1, 0, 1, 0, 1]_Color_[0.6,0.6,0.6]_Noblack'\n",
    "dir_path = f'plt_save_fig/MTime_{current_datetime}_ROG_Display'\n",
    "os.makedirs(dir_path, exist_ok=True)\n",
    "\n",
    "fig = plt.figure(figsize=(100, 5))\n",
    "plt.plot(x_time, y_luminance)\n",
    "plt.xlim((2, 6))\n",
    "plt.ylim((0, 1))\n",
    "plt.xlabel('time(s)')\n",
    "plt.ylabel('Luminance')\n",
    "# plt.show()\n",
    "plt.savefig(os.path.join(dir_path, f'{file_name}.png'))\n",
    "plt.close()"
   ],
   "metadata": {
    "collapsed": false,
    "ExecuteTime": {
     "end_time": "2023-11-07T23:00:42.709496400Z",
     "start_time": "2023-11-07T23:00:41.906383500Z"
    }
   }
  },
  {
   "cell_type": "code",
   "execution_count": null,
   "outputs": [],
   "source": [
    "import json\n",
    "json_data_dict = {}\n",
    "json_data_dict['x_time'] = x_time.tolist()\n",
    "json_data_dict['y_luminance'] = y_luminance.tolist()\n",
    "with open(os.path.join(dir_path, f'{file_name}.json'), 'w') as fp:\n",
    "    json.dump(json_data_dict, fp=fp)"
   ],
   "metadata": {
    "collapsed": false
   }
  }
 ],
 "metadata": {
  "kernelspec": {
   "display_name": "Python 3",
   "language": "python",
   "name": "python3"
  },
  "language_info": {
   "codemirror_mode": {
    "name": "ipython",
    "version": 2
   },
   "file_extension": ".py",
   "mimetype": "text/x-python",
   "name": "python",
   "nbconvert_exporter": "python",
   "pygments_lexer": "ipython2",
   "version": "2.7.6"
  }
 },
 "nbformat": 4,
 "nbformat_minor": 0
}
